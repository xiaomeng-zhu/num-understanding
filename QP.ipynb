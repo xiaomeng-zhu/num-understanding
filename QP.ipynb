{
 "cells": [
  {
   "cell_type": "code",
   "execution_count": 12,
   "id": "a864457b",
   "metadata": {
    "scrolled": true
   },
   "outputs": [
    {
     "name": "stdout",
     "output_type": "stream",
     "text": [
      "\u001b[33mDEPRECATION: Loading egg at /Users/jielanzheng/anaconda3/lib/python3.11/site-packages/SQLAlchemy-1.4.23-py3.11-macosx-11.1-arm64.egg is deprecated. pip 23.3 will enforce this behaviour change. A possible replacement is to use pip for package installation..\u001b[0m\u001b[33m\n",
      "\u001b[0mRequirement already satisfied: replicate in /Users/jielanzheng/anaconda3/lib/python3.11/site-packages (0.25.2)\n",
      "Requirement already satisfied: httpx<1,>=0.21.0 in /Users/jielanzheng/anaconda3/lib/python3.11/site-packages (from replicate) (0.27.0)\n",
      "Requirement already satisfied: packaging in /Users/jielanzheng/anaconda3/lib/python3.11/site-packages (from replicate) (23.0)\n",
      "Requirement already satisfied: pydantic>1.10.7 in /Users/jielanzheng/anaconda3/lib/python3.11/site-packages (from replicate) (2.7.1)\n",
      "Requirement already satisfied: typing-extensions>=4.5.0 in /Users/jielanzheng/anaconda3/lib/python3.11/site-packages (from replicate) (4.7.1)\n",
      "Requirement already satisfied: anyio in /Users/jielanzheng/anaconda3/lib/python3.11/site-packages (from httpx<1,>=0.21.0->replicate) (3.5.0)\n",
      "Requirement already satisfied: certifi in /Users/jielanzheng/anaconda3/lib/python3.11/site-packages (from httpx<1,>=0.21.0->replicate) (2023.7.22)\n",
      "Requirement already satisfied: httpcore==1.* in /Users/jielanzheng/anaconda3/lib/python3.11/site-packages (from httpx<1,>=0.21.0->replicate) (1.0.5)\n",
      "Requirement already satisfied: idna in /Users/jielanzheng/anaconda3/lib/python3.11/site-packages (from httpx<1,>=0.21.0->replicate) (3.4)\n",
      "Requirement already satisfied: sniffio in /Users/jielanzheng/anaconda3/lib/python3.11/site-packages (from httpx<1,>=0.21.0->replicate) (1.2.0)\n",
      "Requirement already satisfied: h11<0.15,>=0.13 in /Users/jielanzheng/anaconda3/lib/python3.11/site-packages (from httpcore==1.*->httpx<1,>=0.21.0->replicate) (0.14.0)\n",
      "Requirement already satisfied: annotated-types>=0.4.0 in /Users/jielanzheng/anaconda3/lib/python3.11/site-packages (from pydantic>1.10.7->replicate) (0.6.0)\n",
      "Requirement already satisfied: pydantic-core==2.18.2 in /Users/jielanzheng/anaconda3/lib/python3.11/site-packages (from pydantic>1.10.7->replicate) (2.18.2)\n",
      "Note: you may need to restart the kernel to use updated packages.\n"
     ]
    }
   ],
   "source": [
    "pip install replicate"
   ]
  },
  {
   "cell_type": "code",
   "execution_count": 13,
   "id": "891a70f6",
   "metadata": {},
   "outputs": [
    {
     "name": "stdout",
     "output_type": "stream",
     "text": [
      "········\n"
     ]
    }
   ],
   "source": [
    "from getpass import getpass\n",
    "import os\n",
    "\n",
    "REPLICATE_API_TOKEN = getpass()\n",
    "os.environ[\"REPLICATE_API_TOKEN\"] = REPLICATE_API_TOKEN"
   ]
  },
  {
   "cell_type": "code",
   "execution_count": 5,
   "id": "d90429ec",
   "metadata": {},
   "outputs": [],
   "source": [
    "import replicate\n",
    "from tqdm import tqdm\n",
    "\n",
    "model_name1 = \"meta/meta-llama-3-70b-instruct\"\n",
    "model_name2 = \"meta/llama-2-70b-chat\""
   ]
  },
  {
   "cell_type": "code",
   "execution_count": 49,
   "id": "e5aed66e",
   "metadata": {},
   "outputs": [],
   "source": [
    "import random\n",
    "\n",
    "random.seed(123)\n",
    "\n",
    "## Analysis for QQA\n",
    "with open(\"QP/Numeracy600K_comment_test.json\", 'r') as file:\n",
    "    QP_comment = json.loads(file.read())\n",
    "\n",
    "with open(\"QP/Numeracy600K_headline_test.json\", 'r') as file:\n",
    "    QP_headline = json.loads(file.read())\n",
    "\n",
    "QP_comment_sample = random.sample(QP_comment, 600)\n",
    "QP_headline_sample = random.sample(QP_headline, 600)"
   ]
  },
  {
   "cell_type": "code",
   "execution_count": 108,
   "id": "79c9147b",
   "metadata": {},
   "outputs": [],
   "source": [
    "def qp_batch(dataset, model_name, result_name):\n",
    "    answers = {}\n",
    "    example_prompt = f\"\"\"\n",
    "            Given a comment/headline with masked number, please choose one of the following magnitude for the masked number:\n",
    "            Option 1: 0, \n",
    "            Option 2: 1, \n",
    "            Option 3: 2, \n",
    "            Option 4: 3, \n",
    "            Option 5: 4, \n",
    "            Option 6, 5,\n",
    "            Option 7: 6.\n",
    "            Example 1: \n",
    "            Masked Statement: {dataset[0]['masked']}\n",
    "            Answer: {dataset[0]['magnitude']}\n",
    "            Example 2:\n",
    "            Masked Statement: {dataset[1]['masked']}\n",
    "            Answer: {dataset[1]['magnitude']}\n",
    "            Based on the example, answer the following question:\n",
    "            \"\"\"\n",
    "\n",
    "    for i in tqdm(range(len(dataset)-2), desc=\"Processing Questions\"):\n",
    "        question_prompt = f\"\"\"\n",
    "            Masked Statement: {dataset[i+2]['masked']}\n",
    "            Please choose one of the following magnitude for the masked number: \n",
    "            Option 1: 0, \n",
    "            Option 2: 1, \n",
    "            Option 3: 2, \n",
    "            Option 4: 3, \n",
    "            Option 5: 4, \n",
    "            Option 6, 5,\n",
    "            Option 7: 6\n",
    "            Please keep the answer format as Option num: num\n",
    "            \"\"\"\n",
    "        ans = ''\n",
    "        for event in replicate.stream(model_name, input={\"prompt\": example_prompt + question_prompt},):\n",
    "            ans += str(event)\n",
    "        answers[i+2] = ans\n",
    "    \n",
    "    with open(f'{result_name}.json', 'w', encoding='utf-8') as f:\n",
    "        json.dump(answers, f, ensure_ascii=False, indent=4)"
   ]
  },
  {
   "cell_type": "code",
   "execution_count": 141,
   "id": "0bf40ebb",
   "metadata": {},
   "outputs": [
    {
     "name": "stdout",
     "output_type": "stream",
     "text": [
      "\n",
      "            Given a comment/headline with masked number, please choose one of the following magnitude for the masked number:\n",
      "            Option 1: 0, \n",
      "            Option 2: 1, \n",
      "            Option 3: 2, \n",
      "            Option 4: 3, \n",
      "            Option 5: 4, \n",
      "            Option 6, 5,\n",
      "            Option 7: 6.\n",
      "            Example 1: \n",
      "            Masked Statement: GALP ENERGIA SA <GALP.LS> : JEFFERIES RAISES PRICE TARGET TO [Num]0 EUROS FROM 12 EUROS; RATING BUY \n",
      "            Answer: 2\n",
      "            Example 2:\n",
      "            Masked Statement: BUZZ-USD/MYR hits 4.12%; KLCI -[Num]%\n",
      "            Answer: 1\n",
      "            Based on the example, answer the following question:\n",
      "            \n",
      "            Masked Statement: BEIJING GEOENVIRON ENGINEERING & TECHNOLOGY <603588.SS> SAYS IT  WINS INDUSTRIAL PARK PROJECT IN HUNAN PROVINCE WITH INVESTMENT  OF [Num] BLN YUAN\n",
      "            Please choose one of the following magnitude for the masked number: \n",
      "            Option 1: 0, \n",
      "            Option 2: 1, \n",
      "            Option 3: 2, \n",
      "            Option 4: 3, \n",
      "            Option 5: 4, \n",
      "            Option 6, 5,\n",
      "            Option 7: 6\n",
      "            Please keep the answer format as Option num: num\n",
      "            \n"
     ]
    }
   ],
   "source": [
    "example_prompt = f\"\"\"\n",
    "            Given a comment/headline with masked number, please choose one of the following magnitude for the masked number:\n",
    "            Option 1: 0, \n",
    "            Option 2: 1, \n",
    "            Option 3: 2, \n",
    "            Option 4: 3, \n",
    "            Option 5: 4, \n",
    "            Option 6, 5,\n",
    "            Option 7: 6.\n",
    "            Example 1: \n",
    "            Masked Statement: {QP_comment_sample[0]['masked']}\n",
    "            Answer: {QP_comment_sample[0]['magnitude']}\n",
    "            Example 2:\n",
    "            Masked Statement: {QP_comment_sample[1]['masked']}\n",
    "            Answer: {QP_comment_sample[1]['magnitude']}\n",
    "            Based on the example, answer the following question:\n",
    "            \"\"\"\n",
    "question_prompt = f\"\"\"\n",
    "            Masked Statement: {QP_comment_sample[i+2]['masked']}\n",
    "            Please choose one of the following magnitude for the masked number: \n",
    "            Option 1: 0, \n",
    "            Option 2: 1, \n",
    "            Option 3: 2, \n",
    "            Option 4: 3, \n",
    "            Option 5: 4, \n",
    "            Option 6, 5,\n",
    "            Option 7: 6\n",
    "            Please keep the answer format as Option num: num\n",
    "            \"\"\""
   ]
  },
  {
   "cell_type": "code",
   "execution_count": 109,
   "id": "7f040316",
   "metadata": {},
   "outputs": [
    {
     "name": "stderr",
     "output_type": "stream",
     "text": [
      "Processing Questions: 100%|███████████████████| 598/598 [15:38<00:00,  1.57s/it]\n"
     ]
    }
   ],
   "source": [
    "qp_batch(QP_comment_sample, model_name1, 'qp_comment')"
   ]
  },
  {
   "cell_type": "code",
   "execution_count": 130,
   "id": "cb12ecaf",
   "metadata": {},
   "outputs": [
    {
     "name": "stderr",
     "output_type": "stream",
     "text": [
      "Processing Questions: 100%|███████████████████| 598/598 [08:48<00:00,  1.13it/s]\n"
     ]
    }
   ],
   "source": [
    "qp_batch(QP_headline_sample, model_name1, 'qp_headline')"
   ]
  },
  {
   "cell_type": "code",
   "execution_count": 136,
   "id": "0079926c",
   "metadata": {},
   "outputs": [],
   "source": [
    "def evaluation_qp(results, dataset, all_labels):\n",
    "    \n",
    "    confusion_matrix = {label: {'tp': 0, 'fp': 0, 'fn': 0} for label in all_labels}\n",
    "    \n",
    "    # Populate the confusion matrix\n",
    "    for i in range(len(dataset)-2):\n",
    "        true_label = f'Option {dataset[i+2][\"magnitude\"] + 1}'\n",
    "        predicted_label = results[f'{i+2}']\n",
    "\n",
    "        for label in all_labels:\n",
    "            if true_label == label:\n",
    "                if label in predicted_label:\n",
    "                    confusion_matrix[label]['tp'] += 1\n",
    "                else:\n",
    "                    confusion_matrix[label]['fn'] += 1\n",
    "            elif label in predicted_label:\n",
    "                confusion_matrix[label]['fp'] += 1\n",
    "\n",
    "    # Calculate precision, recall, and F1 score for each class\n",
    "    scores = {}\n",
    "    for label, counts in confusion_matrix.items():\n",
    "        precision = counts['tp'] / (counts['tp'] + counts['fp']) if (counts['tp'] + counts['fp']) > 0 else 0\n",
    "        recall = counts['tp'] / (counts['tp'] + counts['fn']) if (counts['tp'] + counts['fn']) > 0 else 0\n",
    "        f1_score = 2 * (precision * recall) / (precision + recall) if (precision + recall) > 0 else 0\n",
    "        scores[label] = {'precision': precision, 'recall': recall, 'f1_score': f1_score}\n",
    "\n",
    "    # Calculate macro-average F1 score\n",
    "    macro_f1_score = sum(score['f1_score'] for score in scores.values()) / len(scores)\n",
    "\n",
    "    return scores, macro_f1_score"
   ]
  },
  {
   "cell_type": "code",
   "execution_count": 137,
   "id": "d82382de",
   "metadata": {
    "scrolled": false
   },
   "outputs": [
    {
     "name": "stdout",
     "output_type": "stream",
     "text": [
      "({'Option 1': {'precision': 0.5205479452054794, 'recall': 0.2878787878787879, 'f1_score': 0.37073170731707317}, 'Option 2': {'precision': 0.36942675159235666, 'recall': 0.24267782426778242, 'f1_score': 0.29292929292929293}, 'Option 3': {'precision': 0.3228346456692913, 'recall': 0.5061728395061729, 'f1_score': 0.3942307692307692}, 'Option 4': {'precision': 0.05454545454545454, 'recall': 0.05172413793103448, 'f1_score': 0.05309734513274336}}, 0.2777472786524697)\n",
      "({'Option 1': {'precision': 0.020833333333333332, 'recall': 0.5, 'f1_score': 0.039999999999999994}, 'Option 2': {'precision': 0.4563106796116505, 'recall': 0.1865079365079365, 'f1_score': 0.2647887323943662}, 'Option 3': {'precision': 0.27346938775510204, 'recall': 0.37222222222222223, 'f1_score': 0.31529411764705884}, 'Option 4': {'precision': 0.08163265306122448, 'recall': 0.11764705882352941, 'f1_score': 0.09638554216867469}, 'Option 5': {'precision': 0.0625, 'recall': 0.015625, 'f1_score': 0.025}}, 0.14829367844201996)\n"
     ]
    }
   ],
   "source": [
    "## QP\n",
    "with open(\"qp_comment.json\", 'r') as file:\n",
    "    QP_Comment = json.loads(file.read())\n",
    "with open(\"qp_headline.json\", 'r') as file:\n",
    "    QP_Headline = json.loads(file.read())\n",
    "\n",
    "all_labels1 = ['Option 1', 'Option 2', 'Option 3', 'Option 4']\n",
    "all_labels2 = ['Option 1', 'Option 2', 'Option 3', 'Option 4', 'Option 5']\n",
    "    \n",
    "print(evaluation_qp(QP_Comment, QP_comment_sample, all_labels1))\n",
    "print(evaluation_qp(QP_Headline, QP_headline_sample, all_labels2))"
   ]
  }
 ],
 "metadata": {
  "kernelspec": {
   "display_name": "Python 3 (ipykernel)",
   "language": "python",
   "name": "python3"
  },
  "language_info": {
   "codemirror_mode": {
    "name": "ipython",
    "version": 3
   },
   "file_extension": ".py",
   "mimetype": "text/x-python",
   "name": "python",
   "nbconvert_exporter": "python",
   "pygments_lexer": "ipython3",
   "version": "3.11.4"
  }
 },
 "nbformat": 4,
 "nbformat_minor": 5
}
